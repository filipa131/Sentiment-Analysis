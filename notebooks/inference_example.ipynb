{
 "cells": [
  {
   "cell_type": "markdown",
   "metadata": {},
   "source": [
    "# Model Inference Notebook"
   ]
  },
  {
   "cell_type": "code",
   "execution_count": 6,
   "metadata": {},
   "outputs": [],
   "source": [
    "import os\n",
    "import sys\n",
    "\n",
    "BASE_DIR = os.path.abspath(os.path.join(os.getcwd(), '..'))  \n",
    "SRC_DIR = os.path.join(BASE_DIR, 'src')\n",
    "sys.path.append(SRC_DIR)\n",
    "\n",
    "from utils import predict_message, load_model_and_tokenizer"
   ]
  },
  {
   "cell_type": "code",
   "execution_count": null,
   "metadata": {},
   "outputs": [],
   "source": [
    "# Load the model and tokenizer\n",
    "tokenizer, model, device = load_model_and_tokenizer()"
   ]
  },
  {
   "cell_type": "code",
   "execution_count": 10,
   "metadata": {},
   "outputs": [],
   "source": [
    "# Test messages\n",
    "test_messages = [\n",
    "    \"I am so happy, I can't wait to celebrate my birthday!\",\n",
    "    \"This movie is so exciting! You should watch it!\",\n",
    "    \"I am not ok. My head hurts...\",\n",
    "    \"I'm feeling a bit down today.\"\n",
    "]"
   ]
  },
  {
   "cell_type": "code",
   "execution_count": null,
   "metadata": {},
   "outputs": [
    {
     "name": "stdout",
     "output_type": "stream",
     "text": [
      "Message: I am so happy, I can't wait to celebrate my birthday!\n",
      "Prediction: Positive\n",
      "--------------------------------------------------\n",
      "Message: This movie is so exciting! You should watch it!\n",
      "Prediction: Positive\n",
      "--------------------------------------------------\n",
      "Message: I am not ok. My head hurts...\n",
      "Prediction: Negative\n",
      "--------------------------------------------------\n",
      "Message: I'm feeling a bit down today.\n",
      "Prediction: Negative\n",
      "--------------------------------------------------\n"
     ]
    }
   ],
   "source": [
    "# Loop through the test messages and display predictions\n",
    "for message in test_messages:\n",
    "    prediction = predict_message(message, tokenizer, model, device)\n",
    "    print(f\"Message: {message}\")\n",
    "    print(f\"Prediction: {prediction}\")\n",
    "    print(\"-\" * 50)"
   ]
  }
 ],
 "metadata": {
  "kernelspec": {
   "display_name": "Python 3",
   "language": "python",
   "name": "python3"
  },
  "language_info": {
   "codemirror_mode": {
    "name": "ipython",
    "version": 3
   },
   "file_extension": ".py",
   "mimetype": "text/x-python",
   "name": "python",
   "nbconvert_exporter": "python",
   "pygments_lexer": "ipython3",
   "version": "3.10.11"
  }
 },
 "nbformat": 4,
 "nbformat_minor": 2
}
