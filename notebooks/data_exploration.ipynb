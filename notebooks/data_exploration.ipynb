{
 "cells": [
  {
   "cell_type": "markdown",
   "metadata": {},
   "source": [
    "# Data Exploration Notebook"
   ]
  },
  {
   "cell_type": "code",
   "execution_count": null,
   "metadata": {},
   "outputs": [],
   "source": [
    "import gzip\n",
    "import matplotlib.pyplot as plt\n",
    "import os\n",
    "import pandas as pd\n",
    "import re\n",
    "import seaborn as sns\n",
    "import sys\n",
    "\n",
    "BASE_DIR = os.path.abspath(os.path.join(os.getcwd(), '..'))  \n",
    "SRC_DIR = os.path.join(BASE_DIR, 'src')\n",
    "sys.path.append(SRC_DIR)\n",
    "\n",
    "from constants import RAW_DATA_FILE\n",
    "from utils import read_and_parse_file"
   ]
  },
  {
   "cell_type": "markdown",
   "metadata": {},
   "source": [
    "### Print first line in data.csv.gz"
   ]
  },
  {
   "cell_type": "code",
   "execution_count": 4,
   "metadata": {},
   "outputs": [
    {
     "name": "stdout",
     "output_type": "stream",
     "text": [
      "2009-19-06 18:24:47 INFO     77525 MSG [msgid:2246981348] [sender:martuviale] [flag:NO_QUERY] [target:1] [content:'@lucasgrabeel13 A SIDECKIK (i don´t know how to write it). i love that phone but cant buy it ´cause it is not for sale in my country ']\n"
     ]
    }
   ],
   "source": [
    "with gzip.open(RAW_DATA_FILE, \"rt\", encoding=\"utf-8\") as file:\n",
    "    first_line = file.readline().strip()\n",
    "\n",
    "print(first_line)"
   ]
  },
  {
   "cell_type": "markdown",
   "metadata": {},
   "source": [
    "### Create DataFrame from data.csv.gz"
   ]
  },
  {
   "cell_type": "code",
   "execution_count": 5,
   "metadata": {},
   "outputs": [
    {
     "data": {
      "text/html": [
       "<div>\n",
       "<style scoped>\n",
       "    .dataframe tbody tr th:only-of-type {\n",
       "        vertical-align: middle;\n",
       "    }\n",
       "\n",
       "    .dataframe tbody tr th {\n",
       "        vertical-align: top;\n",
       "    }\n",
       "\n",
       "    .dataframe thead th {\n",
       "        text-align: right;\n",
       "    }\n",
       "</style>\n",
       "<table border=\"1\" class=\"dataframe\">\n",
       "  <thead>\n",
       "    <tr style=\"text-align: right;\">\n",
       "      <th></th>\n",
       "      <th>timestamp</th>\n",
       "      <th>msgid</th>\n",
       "      <th>sender</th>\n",
       "      <th>flag</th>\n",
       "      <th>target</th>\n",
       "      <th>content</th>\n",
       "    </tr>\n",
       "  </thead>\n",
       "  <tbody>\n",
       "    <tr>\n",
       "      <th>0</th>\n",
       "      <td>2009-19-06 18:24:47</td>\n",
       "      <td>2246981348</td>\n",
       "      <td>martuviale</td>\n",
       "      <td>NO_QUERY</td>\n",
       "      <td>1</td>\n",
       "      <td>@lucasgrabeel13 A SIDECKIK (i don´t know how t...</td>\n",
       "    </tr>\n",
       "    <tr>\n",
       "      <th>1</th>\n",
       "      <td>2009-30-05 11:31:34</td>\n",
       "      <td>1973630111</td>\n",
       "      <td>flexd</td>\n",
       "      <td>NO_QUERY</td>\n",
       "      <td>1</td>\n",
       "      <td>@gustomize Ah, pretty far away then  Looks rea...</td>\n",
       "    </tr>\n",
       "    <tr>\n",
       "      <th>2</th>\n",
       "      <td>2009-30-05 06:57:04</td>\n",
       "      <td>1971371956</td>\n",
       "      <td>elltotheoh</td>\n",
       "      <td>NO_QUERY</td>\n",
       "      <td>1</td>\n",
       "      <td>i need a desk that doesnt require me to perch ...</td>\n",
       "    </tr>\n",
       "    <tr>\n",
       "      <th>3</th>\n",
       "      <td>2009-02-06 22:47:38</td>\n",
       "      <td>2013486201</td>\n",
       "      <td>Chynieee</td>\n",
       "      <td>NO_QUERY</td>\n",
       "      <td>1</td>\n",
       "      <td>I NEED THE SIMS 3</td>\n",
       "    </tr>\n",
       "    <tr>\n",
       "      <th>4</th>\n",
       "      <td>2009-30-05 18:50:46</td>\n",
       "      <td>1976712970</td>\n",
       "      <td>millenovecento</td>\n",
       "      <td>NO_QUERY</td>\n",
       "      <td>1</td>\n",
       "      <td>Watching the House marathon and drinking a col...</td>\n",
       "    </tr>\n",
       "  </tbody>\n",
       "</table>\n",
       "</div>"
      ],
      "text/plain": [
       "             timestamp       msgid          sender      flag target  \\\n",
       "0  2009-19-06 18:24:47  2246981348      martuviale  NO_QUERY      1   \n",
       "1  2009-30-05 11:31:34  1973630111           flexd  NO_QUERY      1   \n",
       "2  2009-30-05 06:57:04  1971371956      elltotheoh  NO_QUERY      1   \n",
       "3  2009-02-06 22:47:38  2013486201        Chynieee  NO_QUERY      1   \n",
       "4  2009-30-05 18:50:46  1976712970  millenovecento  NO_QUERY      1   \n",
       "\n",
       "                                             content  \n",
       "0  @lucasgrabeel13 A SIDECKIK (i don´t know how t...  \n",
       "1  @gustomize Ah, pretty far away then  Looks rea...  \n",
       "2  i need a desk that doesnt require me to perch ...  \n",
       "3                                 I NEED THE SIMS 3   \n",
       "4  Watching the House marathon and drinking a col...  "
      ]
     },
     "metadata": {},
     "output_type": "display_data"
    }
   ],
   "source": [
    "columns = [\"timestamp\", \"msgid\", \"sender\", \"flag\", \"target\", \"content\"]\n",
    "df = pd.DataFrame(read_and_parse_file(RAW_DATA_FILE), columns=columns)\n",
    "\n",
    "df = df.astype(str)\n",
    "\n",
    "df = df.drop_duplicates(subset=['content'])\n",
    "display(df.head())"
   ]
  },
  {
   "cell_type": "markdown",
   "metadata": {},
   "source": [
    "### Number of unique values per column"
   ]
  },
  {
   "cell_type": "code",
   "execution_count": 6,
   "metadata": {},
   "outputs": [
    {
     "data": {
      "text/plain": [
       "timestamp    54723\n",
       "msgid        56867\n",
       "sender       50211\n",
       "flag             1\n",
       "target           2\n",
       "content      56867\n",
       "dtype: int64"
      ]
     },
     "metadata": {},
     "output_type": "display_data"
    }
   ],
   "source": [
    "unique_values_count = df.nunique()\n",
    "display(unique_values_count)"
   ]
  },
  {
   "cell_type": "markdown",
   "metadata": {},
   "source": [
    "### Drop unnecessary columns"
   ]
  },
  {
   "cell_type": "code",
   "execution_count": 7,
   "metadata": {},
   "outputs": [
    {
     "data": {
      "text/html": [
       "<div>\n",
       "<style scoped>\n",
       "    .dataframe tbody tr th:only-of-type {\n",
       "        vertical-align: middle;\n",
       "    }\n",
       "\n",
       "    .dataframe tbody tr th {\n",
       "        vertical-align: top;\n",
       "    }\n",
       "\n",
       "    .dataframe thead th {\n",
       "        text-align: right;\n",
       "    }\n",
       "</style>\n",
       "<table border=\"1\" class=\"dataframe\">\n",
       "  <thead>\n",
       "    <tr style=\"text-align: right;\">\n",
       "      <th></th>\n",
       "      <th>target</th>\n",
       "      <th>content</th>\n",
       "    </tr>\n",
       "  </thead>\n",
       "  <tbody>\n",
       "    <tr>\n",
       "      <th>0</th>\n",
       "      <td>1</td>\n",
       "      <td>@lucasgrabeel13 A SIDECKIK (i don´t know how t...</td>\n",
       "    </tr>\n",
       "    <tr>\n",
       "      <th>1</th>\n",
       "      <td>1</td>\n",
       "      <td>@gustomize Ah, pretty far away then  Looks rea...</td>\n",
       "    </tr>\n",
       "    <tr>\n",
       "      <th>2</th>\n",
       "      <td>1</td>\n",
       "      <td>i need a desk that doesnt require me to perch ...</td>\n",
       "    </tr>\n",
       "    <tr>\n",
       "      <th>3</th>\n",
       "      <td>1</td>\n",
       "      <td>I NEED THE SIMS 3</td>\n",
       "    </tr>\n",
       "    <tr>\n",
       "      <th>4</th>\n",
       "      <td>1</td>\n",
       "      <td>Watching the House marathon and drinking a col...</td>\n",
       "    </tr>\n",
       "  </tbody>\n",
       "</table>\n",
       "</div>"
      ],
      "text/plain": [
       "  target                                            content\n",
       "0      1  @lucasgrabeel13 A SIDECKIK (i don´t know how t...\n",
       "1      1  @gustomize Ah, pretty far away then  Looks rea...\n",
       "2      1  i need a desk that doesnt require me to perch ...\n",
       "3      1                                 I NEED THE SIMS 3 \n",
       "4      1  Watching the House marathon and drinking a col..."
      ]
     },
     "metadata": {},
     "output_type": "display_data"
    }
   ],
   "source": [
    "df = df.drop(columns=['timestamp', 'msgid', 'sender', 'flag'])\n",
    "display(df.head())"
   ]
  },
  {
   "cell_type": "markdown",
   "metadata": {},
   "source": [
    "### Target Values Analysis"
   ]
  },
  {
   "cell_type": "code",
   "execution_count": 8,
   "metadata": {},
   "outputs": [
    {
     "name": "stdout",
     "output_type": "stream",
     "text": [
      "target\n",
      "1    29925\n",
      "0    26942\n",
      "Name: count, dtype: int64\n"
     ]
    }
   ],
   "source": [
    "target_distribution = df['target'].value_counts()\n",
    "print(target_distribution)"
   ]
  },
  {
   "cell_type": "markdown",
   "metadata": {},
   "source": [
    "### Content Length Analysis"
   ]
  },
  {
   "cell_type": "code",
   "execution_count": 9,
   "metadata": {},
   "outputs": [
    {
     "name": "stdout",
     "output_type": "stream",
     "text": [
      "count    56867.000000\n",
      "mean        73.691526\n",
      "std         36.074155\n",
      "min          0.000000\n",
      "25%         44.000000\n",
      "50%         69.000000\n",
      "75%        103.000000\n",
      "max        234.000000\n",
      "Name: content_length, dtype: float64\n"
     ]
    },
    {
     "data": {
      "image/png": "[encoded data removed]",
      "text/plain": [
       "<Figure size 800x600 with 1 Axes>"
      ]
     },
     "metadata": {},
     "output_type": "display_data"
    }
   ],
   "source": [
    "# Add a new column for the length of each message in the 'content' column\n",
    "df['content_length'] = df['content'].apply(len)\n",
    "\n",
    "# Show basic statistics of content length\n",
    "print(df['content_length'].describe())\n",
    "\n",
    "# Plot the distribution of content length\n",
    "plt.figure(figsize=(8, 6))\n",
    "sns.histplot(df['content_length'], kde=True, color='blue', bins=30)\n",
    "plt.title('Distribution of Content Length')\n",
    "plt.xlabel('Length of Content')\n",
    "plt.ylabel('Frequency')\n",
    "plt.show()"
   ]
  },
  {
   "cell_type": "markdown",
   "metadata": {},
   "source": [
    "### Word Count Analysis"
   ]
  },
  {
   "cell_type": "code",
   "execution_count": 10,
   "metadata": {},
   "outputs": [
    {
     "name": "stdout",
     "output_type": "stream",
     "text": [
      "count    56867.000000\n",
      "mean        13.199676\n",
      "std          6.942488\n",
      "min          0.000000\n",
      "25%          7.000000\n",
      "50%         12.000000\n",
      "75%         19.000000\n",
      "max         41.000000\n",
      "Name: word_count, dtype: float64\n"
     ]
    },
    {
     "data": {
      "image/png": "[encoded data removed]",
      "text/plain": [
       "<Figure size 800x600 with 1 Axes>"
      ]
     },
     "metadata": {},
     "output_type": "display_data"
    }
   ],
   "source": [
    "# Add a new column for the number of words in each message\n",
    "df['word_count'] = df['content'].apply(lambda x: len(str(x).split()))\n",
    "\n",
    "# Show basic statistics of word count\n",
    "print(df['word_count'].describe())\n",
    "\n",
    "# Plot the distribution of word count\n",
    "plt.figure(figsize=(8, 6))\n",
    "sns.histplot(df['word_count'], kde=True, color='green', bins=30)\n",
    "plt.title('Distribution of Word Count')\n",
    "plt.xlabel('Word Count')\n",
    "plt.ylabel('Frequency')\n",
    "plt.show()"
   ]
  },
  {
   "cell_type": "markdown",
   "metadata": {},
   "source": [
    "### Count Mentions (@username)"
   ]
  },
  {
   "cell_type": "code",
   "execution_count": null,
   "metadata": {},
   "outputs": [
    {
     "data": {
      "text/plain": [
       "mentions_count\n",
       "0    30799\n",
       "1    24880\n",
       "2      927\n",
       "3      143\n",
       "4       61\n",
       "5       26\n",
       "6       21\n",
       "9        5\n",
       "8        3\n",
       "7        2\n",
       "Name: count, dtype: int64"
      ]
     },
     "execution_count": 12,
     "metadata": {},
     "output_type": "execute_result"
    }
   ],
   "source": [
    "df['mentions_count'] = df['content'].apply(lambda x: len(re.findall(r'@\\w+', x)))\n",
    "df['mentions_count'].value_counts()"
   ]
  },
  {
   "cell_type": "markdown",
   "metadata": {},
   "source": [
    "### Count Hashtags (#hashtag)"
   ]
  },
  {
   "cell_type": "code",
   "execution_count": 13,
   "metadata": {},
   "outputs": [
    {
     "data": {
      "text/plain": [
       "hashtags_count\n",
       "0     55576\n",
       "1      1120\n",
       "2       117\n",
       "3        34\n",
       "4         6\n",
       "7         3\n",
       "8         2\n",
       "9         2\n",
       "6         2\n",
       "5         2\n",
       "10        1\n",
       "15        1\n",
       "11        1\n",
       "Name: count, dtype: int64"
      ]
     },
     "execution_count": 13,
     "metadata": {},
     "output_type": "execute_result"
    }
   ],
   "source": [
    "df['hashtags_count'] = df['content'].apply(lambda x: len(re.findall(r'#\\w+', x)))\n",
    "df['hashtags_count'].value_counts()"
   ]
  },
  {
   "cell_type": "markdown",
   "metadata": {},
   "source": [
    "### Count Links"
   ]
  },
  {
   "cell_type": "code",
   "execution_count": 14,
   "metadata": {},
   "outputs": [
    {
     "name": "stdout",
     "output_type": "stream",
     "text": [
      "links_count\n",
      "0    54020\n",
      "1     2791\n",
      "2       51\n",
      "3        5\n",
      "Name: count, dtype: int64\n"
     ]
    }
   ],
   "source": [
    "df['links_count'] = df['content'].apply(lambda x: len(re.findall(r'http\\S+|www\\S+|https\\S+', str(x))))\n",
    "print(df['links_count'].value_counts())"
   ]
  }
 ],
 "metadata": {
  "kernelspec": {
   "display_name": "Python 3",
   "language": "python",
   "name": "python3"
  },
  "language_info": {
   "codemirror_mode": {
    "name": "ipython",
    "version": 3
   },
   "file_extension": ".py",
   "mimetype": "text/x-python",
   "name": "python",
   "nbconvert_exporter": "python",
   "pygments_lexer": "ipython3",
   "version": "3.10.11"
  }
 },
 "nbformat": 4,
 "nbformat_minor": 2
}
